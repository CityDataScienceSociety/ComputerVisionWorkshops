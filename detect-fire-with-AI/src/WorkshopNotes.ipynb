{
 "cells": [
  {
   "cell_type": "markdown",
   "metadata": {
    "id": "1LkzXBIy93qY"
   },
   "source": [
    "# How to detect fire with AI\n",
    "\n",
    "Brought to you by Daniel Sikar daniel.sikar@city.ac.uk  \n",
    "and  \n",
    "City Data Science Society - https://www.datasciencesociety.city/\n",
    "\n",
    "## Training a Convolutional Neural Network for a computer vision binary classification task\n",
    "## Workshop Notes\n",
    "\n",
    "## Environment\n",
    "The accompanying [Jupyter Notebook] (https://github.com/CityDataScienceSociety/ComputerVisionWorkshops/blob/main/detect-fire-with-AI/src/Train.ipynb) can run locally or remotely. For the City Data Science Society workshop, it will run remotely on Google Colab, a Python development environment that runs in the browser using Google Cloud, but may run locally if any participant wishes to do so.\n",
    "Code runs in a cell. Formated text (markdown style) may also be added.\n",
    "## Data\n",
    "The dataset has been uploaded and shared on Google Drive and is downloaded to the Google Cloud where it is accessible to the Jupyter Notebook. A Google account (not necessarily email account) is required to download data into Colab.\n",
    "If this is not desirable, see comment in code to download locally.\n",
    "## Creating a copy\n",
    "To make a file editable, click \"Copy to Drive\". This will create a copy you may modify.\n",
    "## Virtual Machine\n",
    "Colab runs on a virtual machine, to see machine details run commands, preceded by exclamation mark, in a code cell\n",
    "\n"
   ]
  },
  {
   "cell_type": "markdown",
   "metadata": {
    "id": "A73BY47A93qu"
   },
   "source": [
    "## Running Terminal commands"
   ]
  },
  {
   "cell_type": "code",
   "execution_count": null,
   "metadata": {
    "id": "8ZvV49yR93qy"
   },
   "outputs": [],
   "source": [
    "!whoami\n",
    "# Note commands below did not run on Google Colab\n",
    "# !cat /proc/meminfo\n",
    "# MemTotal:       32807580 kB ~ 32GB\n",
    "# !cat /proc/cpuinfo # 12 core CPU\n",
    "# model name\t: Intel(R) Xeon(R) CPU E5-1650 v3 @ 3.50GHz\n",
    "# !df -h\n",
    "# Filesystem      Size  Used Avail Use% Mounted on\n",
    "# udev             16G     0   16G   0% /dev"
   ]
  },
  {
   "cell_type": "markdown",
   "metadata": {
    "id": "56MUWu8Z93rB"
   },
   "source": [
    "## Python modules\n",
    "We'll use a number of modules: os, cv2, etc.\n",
    "If running locally, modules may need to be installed e.g. for cv2:\n",
    "```\n",
    "!pip install opencv-python\n",
    "```\n",
    "## Coding\n",
    "We'll load images:\n",
    "```\n",
    "img_no_fire = cv2.imread('datasets/nofire/20200724_175219_001.jpg')\n",
    "```\n",
    "And inspect data types:\n",
    "```\n",
    "print(\"\\n\\rimg_no_fire data type:\", type(img_no_fire))\n",
    "```\n",
    "Define reusable code blocks as functions:\n",
    "```\n",
    "def create_training_data(IMG_SIZE, DATADIR, CATEGORIES):\n",
    "\n",
    "(...)\n",
    "\n",
    "  return training_data\n",
    "```"
   ]
  },
  {
   "cell_type": "markdown",
   "metadata": {
    "id": "djeaBLBg93rE"
   },
   "source": [
    "## Understanding the problem at hand\n",
    "Consider the OR truth table:\n",
    "\n",
    "|  Input 1 | Input 2 | Output  |\n",
    "| --- | --- | --- |\n",
    "| 0  | 0  | 0  |\n",
    "| 1  | 0  | 1  |\n",
    "| 0  | 1  | 1  |\n",
    "| 1  | 1  | 1  |\n",
    "\n",
    "We would like to find (approximate) a function to help classify the outputs. \n",
    "Note, this could be written in code with a function such as:\n",
    "```\n",
    "def OR(x,y):\n",
    "    if(x+y):\n",
    "        return 1\n",
    "    return 0\n",
    "```\n",
    "This is the *rules-based* traditional programming paradigm.\n",
    "\n",
    "To help us visualise the data, we plot output classes (0 and 1) in a Cartesian plane:"
   ]
  },
  {
   "cell_type": "code",
   "execution_count": null,
   "metadata": {
    "id": "bApb48PL93rG"
   },
   "outputs": [],
   "source": [
    "import numpy as np\n",
    "or_array = np.asarray([[0,0,0],[1,0,1],[0,1,1],[1,1,1]])\n",
    "# print(np.shape(or_array))\n",
    "# (4, 3)\n",
    "# indexes\n",
    "xi = 0 # input 1\n",
    "yi = 1 # input 2\n",
    "oi = 2 # output\n",
    "for i in range(0,np.shape(or_array)[0]):\n",
    "    print(or_array[i][xi], or_array[i][yi], or_array[i][oi])"
   ]
  },
  {
   "cell_type": "code",
   "execution_count": null,
   "metadata": {
    "id": "867jTsJz93rO"
   },
   "outputs": [],
   "source": [
    "# Alternatively - https://www.desmos.com/calculator\n",
    "def plotOR(hyperplane):\n",
    "    \"\"\"\n",
    "    Plot the OR truth table\n",
    "    Inputs:\n",
    "        hyperplane, boolean \n",
    "    Outputs:\n",
    "        none\n",
    "    \"\"\"\n",
    "    import matplotlib\n",
    "    import matplotlib.pyplot as plt\n",
    "    import numpy as np\n",
    "\n",
    "    # indexes\n",
    "    xi = 0 # input 1\n",
    "    yi = 1 # input 2\n",
    "    oi = 2 # output\n",
    "\n",
    "    fig, ax = plt.subplots()\n",
    "    ax.set_aspect('equal', adjustable='box')\n",
    "    ax.set_xlim([-0.5,1.5])\n",
    "    ax.set_ylim([-0.5,1.5])\n",
    "    # initialize\n",
    "    dot = ''\n",
    "    for i in range(0,np.shape(or_array)[0]):\n",
    "        if (or_array[i][oi]): # evaluates to boolean True/False\n",
    "            dot = 'go' # green dots\n",
    "        else:\n",
    "            dot = 'ro' # red dot\n",
    "        # plot\n",
    "        ax.plot(or_array[i][xi], or_array[i][yi], dot)\n",
    "\n",
    "    # *hyperplane* that separates both classes\n",
    "    if (hyperplane):\n",
    "        plt.plot([-0.5,1], [1, -0.5], linestyle='solid')\n",
    "\n",
    "    ax.set(xlabel='Input 1', ylabel='Input 2',\n",
    "           title='OR Truth Table')\n",
    "    ax.grid()\n",
    "    # figure can be saved if needed\n",
    "    # fig.savefig(\"test.png\")\n",
    "    plt.show()"
   ]
  },
  {
   "cell_type": "markdown",
   "metadata": {
    "id": "SQ6YhFQE93rY"
   },
   "source": [
    "We need to find a line to separate *True* and *False* classes.  \n",
    "Considering the line equation in slope intercept form  \n",
    "$y=mx+b$  \n",
    "where $x$ and $y$ are inputs* (given by data) and slope $m$ and intercept $b$ are the *parameters* we need to find to approximate the *OR* function:"
   ]
  },
  {
   "cell_type": "code",
   "execution_count": null,
   "metadata": {
    "id": "p43urTG-93ra"
   },
   "outputs": [],
   "source": [
    "plotOR(False)\n",
    "# plotOR(True)"
   ]
  },
  {
   "cell_type": "markdown",
   "metadata": {
    "id": "fas3E7UA93rk"
   },
   "source": [
    "In this case, parameters $m$ can be found with:  \n",
    "\n",
    "$ m = \\frac{y_2-y_1}{x_2-x_1} \\\\ \n",
    "m = -0.5 - 1 \\div 1 - (-0.5) \\\\\n",
    "m = -1.0 \n",
    "$\n",
    "\n",
    "Then by substitution using one of the x,y coordinate pairs:  \n",
    "\n",
    "$ y = mx + b  \\\\  \n",
    "1 = (-1 \\times -0.5) + b \\\\\n",
    "b = 0.5\n",
    "$\n",
    "\n",
    "Resulting in one solution, the line equation:  \n",
    "\n",
    "$ y = -x + 0.5 $"
   ]
  },
  {
   "cell_type": "code",
   "execution_count": null,
   "metadata": {
    "id": "Eyi8zkWq93rl"
   },
   "outputs": [],
   "source": [
    "# Plotting the line sanity check\n",
    "\n",
    "# https://stackoverflow.com/questions/7941226/how-to-add-line-based-on-slope-and-intercept-in-matplotlib\n",
    "import matplotlib.pyplot as plt \n",
    "import numpy as np    \n",
    "\n",
    "def plotline(slope, intercept):\n",
    "    \"\"\"Plot a line from slope and intercept\"\"\"\n",
    "    axes = plt.gca()\n",
    "    axes.set_aspect('equal', adjustable='box')\n",
    "    axes.set_xlim([0,1])\n",
    "    axes.set_ylim([0,1])\n",
    "    # create array of x values based on plot size\n",
    "    x_vals = np.array(axes.get_xlim())\n",
    "    # create corresponding y values based on line equation\n",
    "    y_vals = intercept + slope * x_vals\n",
    "    plt.plot(x_vals, y_vals, '--')\n",
    "    \n",
    "plotline(-1,0.5)    "
   ]
  },
  {
   "cell_type": "markdown",
   "metadata": {
    "id": "sZBK_Lcx93rt"
   },
   "source": [
    "# Applying line equation to approximate OR function:\n",
    "\n",
    "We change the line equation form:  \n",
    "\n",
    "$ y = mx + b \\\\\n",
    "-mx + y -  b = 0 \\\\\n",
    "-mx + y - b > 0  \n",
    "$\n",
    "\n",
    "\n",
    "The $>$ sign is used such that when the expression evaluates to *True*, the input represented by coordinate pairs x,y is above the line and the ouput is 1. When the expression evaluates to *False*, the input represented by coordinate pairs x,y is below the line and the output is 0.\n"
   ]
  },
  {
   "cell_type": "code",
   "execution_count": null,
   "metadata": {
    "id": "8C6PJ7hY93rv"
   },
   "outputs": [],
   "source": [
    "def ORlineeq(x,y):\n",
    "    m = -1\n",
    "    b = 0.5\n",
    "    return int((-m*x + y - b) > 0) \n",
    "\n",
    "def OR(x,y):\n",
    "    if(x+y):\n",
    "        return 1\n",
    "    return 0\n",
    "\n",
    "print(\"OR Truth Table - graphical solution\")\n",
    "for i in range(0,np.shape(or_array)[0]):\n",
    "    print(or_array[i][xi], or_array[i][yi], ORlineeq(or_array[i][xi], or_array[i][yi]))\n",
    "print(\"OR Truth Table - rules base solution\")  \n",
    "for i in range(0,np.shape(or_array)[0]):\n",
    "    print(or_array[i][xi], or_array[i][yi], OR(or_array[i][xi], or_array[i][yi]))\n",
    "    "
   ]
  },
  {
   "cell_type": "markdown",
   "metadata": {
    "id": "n0MfqfKw93r1"
   },
   "source": [
    "## The AND function\n",
    "|  Input 1 | Input 2 | Output  |\n",
    "| --- | --- | --- |\n",
    "| 0  | 0  | 0  |\n",
    "| 1  | 0  | 0  |\n",
    "| 0  | 1  | 0  |\n",
    "| 1  | 1  | 1  |"
   ]
  },
  {
   "cell_type": "code",
   "execution_count": null,
   "metadata": {
    "id": "7mLQNpW393r2"
   },
   "outputs": [],
   "source": [
    "def plotAND(hyperplane):\n",
    "    \"\"\"\n",
    "    Plot the OR truth table\n",
    "    Inputs:\n",
    "        hyperplane, boolean \n",
    "    Outputs:\n",
    "        none\n",
    "    \"\"\"\n",
    "    import matplotlib\n",
    "    import matplotlib.pyplot as plt\n",
    "    import numpy as np\n",
    "\n",
    "    # And array ~ labelled data\n",
    "    and_array = np.asarray([[0,0,0],[1,0,0],[0,1,0],[1,1,1]])\n",
    "    # indexes\n",
    "    xi = 0 # input 1\n",
    "    yi = 1 # input 2\n",
    "    oi = 2 # output\n",
    "\n",
    "    fig, ax = plt.subplots()\n",
    "    ax.set_aspect('equal', adjustable='box')\n",
    "    ax.set_xlim([-0.5,1.5])\n",
    "    ax.set_ylim([-0.5,1.5])\n",
    "    # initialize\n",
    "    dot = ''\n",
    "    for i in range(0,np.shape(and_array)[0]):\n",
    "        if (and_array[i][oi]): # evaluates to boolean True/False\n",
    "            dot = 'go' # green dots\n",
    "        else:\n",
    "            dot = 'ro' # red dot\n",
    "        # plot\n",
    "        ax.plot(and_array[i][xi], and_array[i][yi], dot)\n",
    "\n",
    "    # *hyperplane* that separates both classes\n",
    "    if (hyperplane):\n",
    "        plt.plot([-0.5,2], [2, -0.5], linestyle='solid')\n",
    "\n",
    "    ax.set(xlabel='Input 1', ylabel='Input 2',\n",
    "           title='OR Truth Table')\n",
    "    ax.grid()\n",
    "    # figure can be saved if needed\n",
    "    # fig.savefig(\"test.png\")\n",
    "    plt.show()"
   ]
  },
  {
   "cell_type": "code",
   "execution_count": null,
   "metadata": {
    "id": "s94-c6g-93r-"
   },
   "outputs": [],
   "source": [
    "plotAND(True)"
   ]
  },
  {
   "cell_type": "code",
   "execution_count": null,
   "metadata": {
    "id": "4cEVnVL393sG"
   },
   "outputs": [],
   "source": [
    "# Sanity check\n",
    "plotline(-1,1.5) "
   ]
  },
  {
   "cell_type": "code",
   "execution_count": null,
   "metadata": {
    "id": "PgZsH85v93sM"
   },
   "outputs": [],
   "source": [
    "def ANDlineeq(x,y):\n",
    "    # y > mx + b\n",
    "    m = -1\n",
    "    b = 1.5\n",
    "    return int((-m*x + y - b) > 0) \n",
    "\n",
    "def AND(x,y):\n",
    "    if(x+y==2):\n",
    "        return 1\n",
    "    return 0\n",
    "\n",
    "and_array = np.asarray([[0,0,0],[1,0,0],[0,1,0],[1,1,1]])\n",
    "\n",
    "print(\"AND Truth Table - graphical solution\")\n",
    "for i in range(0,np.shape(or_array)[0]):\n",
    "    print(and_array[i][xi], and_array[i][yi], ANDlineeq(and_array[i][xi], and_array[i][yi]))\n",
    "print(\"AND Truth Table - rules base solution\")  \n",
    "for i in range(0,np.shape(and_array)[0]):\n",
    "    print(and_array[i][xi], and_array[i][yi], AND(and_array[i][xi], and_array[i][yi]))"
   ]
  },
  {
   "cell_type": "code",
   "execution_count": null,
   "metadata": {
    "id": "cPVkXXFy93sT"
   },
   "outputs": [],
   "source": [
    "def Weirdlineeq(x,y):\n",
    "    m = 1\n",
    "    b = 0.5\n",
    "    return int((-m*x + y - b) > 0) \n",
    "\n",
    "def Weird(x,y):\n",
    "    if(x==0 and y==1):\n",
    "        return 1\n",
    "    return 0\n",
    "\n",
    "# 0 and 1 evaluate to true\n",
    "weird_array = np.asarray([[0,0,0],[1,0,0],[0,1,1],[1,1,0]])\n",
    "\n",
    "print(\"WEIRD Truth Table - graphical solution\")\n",
    "for i in range(0,np.shape(weird_array)[0]):\n",
    "    print(weird_array[i][xi], weird_array[i][yi], Weirdlineeq(weird_array[i][xi], weird_array[i][yi]))\n",
    "print(\"WEIRD Truth Table - rules base solution\")  \n",
    "for i in range(0,np.shape(weird_array)[0]):\n",
    "    print(weird_array[i][xi], weird_array[i][yi], Weird(weird_array[i][xi], weird_array[i][yi]))"
   ]
  },
  {
   "cell_type": "code",
   "execution_count": null,
   "metadata": {
    "id": "3Vv6z8b593sd"
   },
   "outputs": [],
   "source": [
    "def Weird2lineeq(x,y): # breaks - rules required...\n",
    "    m = 1\n",
    "    b = -0.5\n",
    "    return int((-m*x + y - b) < 0) # invert logic, positive slope, class below line is true\n",
    "\n",
    "def Weird2(x,y):\n",
    "    if(x==1 and y==0):\n",
    "        return 1\n",
    "    return 0\n",
    "\n",
    "# 1 and 0 evaluate to true\n",
    "weird2_array = np.asarray([[0,0,0],[1,0,1],[0,1,0],[1,1,0]])\n",
    "\n",
    "print(\"WEIRD Truth Table - graphical solution\")\n",
    "for i in range(0,np.shape(weird2_array)[0]):\n",
    "    print(weird2_array[i][xi], weird2_array[i][yi], Weird2lineeq(weird2_array[i][xi], weird2_array[i][yi]))\n",
    "print(\"WEIRD Truth Table - rules base solution\")  \n",
    "for i in range(0,np.shape(weird2_array)[0]):\n",
    "    print(weird_array[i][xi], weird_array[i][yi], Weird2(weird_array[i][xi], weird_array[i][yi]))"
   ]
  },
  {
   "cell_type": "markdown",
   "metadata": {},
   "source": [
    "## Softmax function\n",
    "$\n",
    "\\sigma(\\mathbf{z})_i = \\frac{e^{z_i}}{\\sum_{j=1}^K e^{z_j}}\n",
    "$"
   ]
  },
  {
   "cell_type": "code",
   "execution_count": null,
   "metadata": {},
   "outputs": [],
   "source": [
    "# Softmax function\n",
    "import numpy as np\n",
    "def softmax(arr):\n",
    "    # sum of exponentiations (denominator)\n",
    "    sume = 0 # sum of exponentiated scores\n",
    "    prob = 0 # individual probabilities\n",
    "    sump = 0 # sum of probabilities\n",
    "    for i in range(0,len(arr)):\n",
    "        sume += np.e**arr[i]\n",
    "    # probability for every score\n",
    "    for i in range(0,len(arr)):\n",
    "        prob = np.e**arr[i] / sume\n",
    "        print('Probability of {} is {}'.format(arr[i], prob))\n",
    "        sump += prob\n",
    "    print('Sum of probabilities = {}'.format(sump))       \n",
    "\n",
    "# scores\n",
    "arr = np.asarray([0.5,1])\n",
    "softmax(arr)\n",
    "arr = np.asarray([1,2])\n",
    "softmax(arr)\n",
    "arr = np.asarray([3,6])\n",
    "softmax(arr)"
   ]
  },
  {
   "cell_type": "code",
   "execution_count": null,
   "metadata": {
    "id": "piVtUr7b93sj"
   },
   "outputs": [],
   "source": [
    "# Todo McCullough-Pitts neuron\n",
    "# Feed forward Neural Networks\n",
    "# Convolutional Networks\n",
    "np.e**1"
   ]
  }
 ],
 "metadata": {
  "colab": {
   "name": "WorkshopNotes.ipynb",
   "provenance": []
  },
  "kernelspec": {
   "display_name": "Python 3",
   "language": "python",
   "name": "python3"
  },
  "language_info": {
   "codemirror_mode": {
    "name": "ipython",
    "version": 3
   },
   "file_extension": ".py",
   "mimetype": "text/x-python",
   "name": "python",
   "nbconvert_exporter": "python",
   "pygments_lexer": "ipython3",
   "version": "3.7.4"
  }
 },
 "nbformat": 4,
 "nbformat_minor": 1
}
